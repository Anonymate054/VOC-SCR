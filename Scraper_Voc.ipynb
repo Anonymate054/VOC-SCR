{
 "cells": [
  {
   "cell_type": "code",
   "execution_count": 20,
   "id": "af8cd299-0c8b-48c7-8d2f-b90689c733d5",
   "metadata": {},
   "outputs": [],
   "source": [
    "import requests\n",
    "import lxml.html as html\n",
    "import os \n",
    "import datetime\n",
    "\n",
    "headers = {'User-Agent': 'Mozilla/5.0 (Macintosh; Intel Mac OS X 10_11_5) AppleWebKit/537.36 (KHTML, like Gecko) Chrome/50.0.2661.102 Safari/537.36'}\n",
    "\n",
    "HOME_URL = 'https://www.vocabulary.com/lists/194479'\n",
    "XPATH_LINK_TO_WORDS = '//section[@class=\"wordlist\"]//a[@class=\"word\"]/@href'"
   ]
  },
  {
   "cell_type": "code",
   "execution_count": 2,
   "id": "b77cadda-90b1-417d-9064-4d2b660275bb",
   "metadata": {},
   "outputs": [],
   "source": [
    "XPATH_WORD_LIST = '//*[contains(concat( \" \", @class, \" \" ), concat( \" \", \"word\", \" \" ))]/text()'\n",
    "XPATH_WORD_LINKS = '//*[contains(concat( \" \", @class, \" \" ), concat( \" \", \"word\", \" \" ))]/@href'"
   ]
  },
  {
   "cell_type": "code",
   "execution_count": 25,
   "id": "bf49a3ad",
   "metadata": {},
   "outputs": [],
   "source": [
    "XPATH_WORD_DEF = '//section[@class=\"wordlist\"]//div[@class=\"definition\"]/text()'\n",
    "XPATH_WORD_LIST = '//section[@class=\"wordlist\"]/ol/li/@word'"
   ]
  },
  {
   "cell_type": "code",
   "execution_count": 34,
   "id": "1c699307-30d1-4b7b-8df6-90181a4c2d24",
   "metadata": {},
   "outputs": [],
   "source": [
    "def parse_voc(link):\n",
    "    try:\n",
    "        response = requests.get(link, headers=headers)\n",
    "        print(response)\n",
    "        if response.status_code == 200:\n",
    "            page = response.content.decode('utf-8')\n",
    "            parsed = html.fromstring(page)\n",
    "            try:\n",
    "                word_list = parsed.xpath(XPATH_WORD_LIST)\n",
    "                word_def = parsed.xpath(XPATH_WORD_DEF)\n",
    "            except IndexError:\n",
    "                return\n",
    "            #print('word_list', word_list[0])\n",
    "            #print('word_def', word_def[0])\n",
    "\n",
    "            with open(f'voc_list.txt', 'w', encoding='utf-8') as f:\n",
    "                for count, word in enumerate(word_list):\n",
    "                    f.write(word)\n",
    "                    #print(word)\n",
    "                    f.write('#')\n",
    "                    f.write(word_def[count])\n",
    "                    f.write('\\n')\n",
    "        else:\n",
    "            raise ValueError(f'Error:{response.status_code}')\n",
    "    except ValueError as ve:\n",
    "        print(ve)\n",
    "    \n",
    "def parse_home():\n",
    "    try:\n",
    "        response = requests.get(HOME_URL)\n",
    "        if response.status_code == 200:\n",
    "            home = response.content.decode('utf-8')\n",
    "            parsed = html.fromstring(home)\n",
    "            if not os.path.isdir('voc_list'):\n",
    "                os.mkdir('voc_list')\n",
    "            parse_voc(link)\n",
    "    except ValueError as ve:\n",
    "        print(ve)\n",
    "\n",
    "def run():\n",
    "    parse_home()\n",
    "    \n",
    "if __name__ == '__main__':\n",
    "    run()"
   ]
  },
  {
   "cell_type": "code",
   "execution_count": 36,
   "id": "4d96b68e-72e7-4ec8-8064-6dca3f995912",
   "metadata": {},
   "outputs": [
    {
     "name": "stdout",
     "output_type": "stream",
     "text": [
      "https://www.vocabulary.com/lists/194479\n",
      "<Response [200]>\n"
     ]
    }
   ],
   "source": [
    "print(HOME_URL)\n",
    "parse_voc(HOME_URL)"
   ]
  },
  {
   "cell_type": "code",
   "execution_count": 19,
   "id": "64f08a52-576c-4a82-b817-3c2f67776889",
   "metadata": {},
   "outputs": [
    {
     "name": "stdout",
     "output_type": "stream",
     "text": [
      "<Response [403]>\n"
     ]
    }
   ],
   "source": [
    "response = requests.get('https://www.vocabulary.com/dictionary/abate')\n",
    "print(response)"
   ]
  },
  {
   "cell_type": "code",
   "execution_count": 21,
   "id": "74287173-2f6c-44da-9e9a-10cd87acec4c",
   "metadata": {},
   "outputs": [
    {
     "data": {
      "text/plain": [
       "<Response [200]>"
      ]
     },
     "execution_count": 21,
     "metadata": {},
     "output_type": "execute_result"
    }
   ],
   "source": [
    "response = requests.get('https://www.vocabulary.com/dictionary/abate', headers=headers)\n",
    "response"
   ]
  }
 ],
 "metadata": {
  "kernelspec": {
   "display_name": "Python 3 (ipykernel)",
   "language": "python",
   "name": "python3"
  },
  "language_info": {
   "codemirror_mode": {
    "name": "ipython",
    "version": 3
   },
   "file_extension": ".py",
   "mimetype": "text/x-python",
   "name": "python",
   "nbconvert_exporter": "python",
   "pygments_lexer": "ipython3",
   "version": "3.11.3"
  }
 },
 "nbformat": 4,
 "nbformat_minor": 5
}
